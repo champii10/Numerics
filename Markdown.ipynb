{
 "cells": [
  {
   "cell_type": "markdown",
   "metadata": {},
   "source": [
    "# Mi reporte (Sección)\n",
    "\n",
    "<a name=\"contenidos\"></a>\n",
    "## Tabla de contenidos\n",
    "1. [Usando Markdown](#markdown)\n",
    "    1. [Estilos de Texto](#texto)\n",
    "    2. [Listas y Tablas](#listas)\n",
    "    3. [Enlaces](#enlaces)\n",
    "    4. [Modos especiales](#modes)\n",
    "    5. [Raw NBConvert](#raw)\n",
    "2. [LaTeX en Markdown](#latex)\n",
    "    1. [Fórmulas](#formulas)\n",
    "    2. [Matrices](#matrices)\n",
    "    3. [Funciones por casos](#fcasos)\n",
    "    4. [Índices](#indices)\n",
    "    5. [Operadores](#operadores)"
   ]
  },
  {
   "cell_type": "markdown",
   "metadata": {},
   "source": [
    "## Usando Markdown (Subsección)<a name=\"markdown\"></a>\n",
    "\n",
    "### Estilos de Texto<a name=\"texto\"></a>\n",
    "\n",
    "Texto Simple\n",
    "\n",
    "`Texto marcado` colocando texto entre acentos invertidos\n",
    "\n",
    "*Texto en Italica* colocando texto entre asteriscos\n",
    "\n",
    "**Texto en Negritas** colocando texto entre dobles asteriscos\n",
    "\n",
    "***Texto en Negritas e italica*** colocando texto entre triples asteriscos\n",
    "\n",
    "<font color=blue>Texto de color</font> usando  `<font color=COLOR> TEXTO </font>`"
   ]
  },
  {
   "cell_type": "markdown",
   "metadata": {},
   "source": [
    "### Listas y Tablas<a name=\"listas\"></a>\n",
    "\n",
    "Listas \n",
    "* primer elemento\n",
    "  \n",
    "  parrafo indentado   parrafo indentado\n",
    "  \n",
    "  parrafo indentado   parrafo indentado\n",
    "\n",
    "\n",
    "* segundo elemento\n",
    "\n",
    "Listas enumeradas usando `1.` `2.` `3.` \n",
    "1. primer elemento de lista\n",
    "2. segundo elemento de lista\n",
    "   1. primer elemento de sublista usando `TAB` y `1.`\n",
    "\n",
    "TABLAS usando HTML\n",
    "\n",
    "| $x_i$ | $y_i$|\n",
    "|------|------|\n",
    "|  5.1 | 89.2|\n",
    "|  5.2 | 80.3|\n",
    "|  5.5 | 90.5|\n",
    "|  6.1 | 99.7|\n",
    "|  7.1 | 79.9|\n",
    "\n",
    "Separadores usando `---` o `***`\n",
    "\n",
    "---\n",
    "***"
   ]
  },
  {
   "cell_type": "markdown",
   "metadata": {},
   "source": [
    "### Enlaces<a name=\"enlaces\"></a>\n",
    "\n",
    "* URL http://jupyter-notebook.readthedocs.io/en/stable/examples/Notebook/Working%20With%20Markdown%20Cells.html\n",
    "\n",
    "    <font color=red> Checa el enlace</font>\n",
    "\n",
    "* Revisa la [Tabla de Contenidos](#contenidos)\n",
    " \n",
    "  usa `[Texto](#etiqueta)` para activar hiper-vínculo"
   ]
  },
  {
   "cell_type": "markdown",
   "metadata": {},
   "source": [
    "\n",
    "### Modos especiales<a name=\"modes\"></a>\n",
    "\n",
    "* en modo de color usa `<br>` para nuevo renglón \n",
    "\n",
    " <font color=blue> \n",
    "   1º linea de texto de color azul \n",
    "   <br>     \n",
    "   2º linea de texto de color azul\n",
    "   </font>\n",
    "\n",
    "* Indentación\n",
    "\n",
    "> Modo Indentado usando `>`\n",
    "\n",
    "> Segunda linea indentada  usando `>`\n",
    "\n",
    ">> Tercera linea con nueva indentación usando `>>`\n",
    "\n",
    "\n",
    "* <font color=green>CÓDIGO DE JULIA</font> (*NO ejecutable*)\n",
    "\n",
    ">```julia\n",
    "println(\"Hello World\")\n",
    "a = 0.5;\n",
    "A = [abs(i-j) for i=1:m, j = 1:n]\n",
    "```\n"
   ]
  },
  {
   "cell_type": "markdown",
   "metadata": {},
   "source": [
    "### Raw NBConvert<a name=\"raw\"></a>\n",
    "USA el Modo Raw NBConvert para texto **SIN EFECTOS**\n",
    "\n",
    "vea la siguiente celda "
   ]
  },
  {
   "cell_type": "raw",
   "metadata": {},
   "source": [
    "**texto sin estilo**\n",
    "\n",
    "> No hay indentación\n",
    "\n",
    "\n",
    "```julia\n",
    "println(\"Hello World\")\n",
    "a = 0.5;\n",
    "A = [abs(i-j) for i=1:m, j = 1:n]\n",
    "```"
   ]
  },
  {
   "cell_type": "markdown",
   "metadata": {},
   "source": [
    "***\n",
    "***\n",
    "***"
   ]
  },
  {
   "cell_type": "markdown",
   "metadata": {},
   "source": [
    "## $\\LaTeX$ en Markdown <a name=\"latex\"></a>\n",
    "\n",
    "### Fórmulas<a name=\"formulas\"></a>\n",
    "\n",
    "  usa `$formula$` para insertar código de Latex en misma linea que el texto  \n",
    "> Texto con fórmulas $f(x)= x^2$ y continua\n",
    "\n",
    "  usa `$$formula$$` para insertar código de Latex en un renglón aparte\n",
    "> La parábola $$f(x) =x^2$$"
   ]
  },
  {
   "cell_type": "markdown",
   "metadata": {},
   "source": [
    "###  Matrices<a name=\"matrices\"></a>\n",
    "  $$A-\\lambda I = \n",
    "  \\begin{pmatrix}\n",
    "    -1 -\\lambda & 5 \\\\ 5 & 1-\\lambda\n",
    "  \\end{pmatrix}$$\n",
    "  con alguno de los siguientes ambientes \n",
    "  >`\\begin{pmatrix}...\\end{pamtrix}`\n",
    "  \n",
    "  >`\\begin{bmatrix}...\\end{bamtrix}`\n",
    "  \n",
    "  separamos columnas con `&` y renglones con `\\\\`"
   ]
  },
  {
   "cell_type": "markdown",
   "metadata": {},
   "source": [
    "###  Funciones por casos<a name=\"fcasos\"></a>\n",
    "  $$f(x)= \n",
    "  \\begin{cases}\n",
    "   \\dfrac{\\sin(\\pi x)}{\\pi x}, & x\\neq 0; \\\\ 1, & x =0.\n",
    "  \\end{cases}$$\n",
    "  con el ambiente `\\begin{cases}...\\end{cases}`    "
   ]
  },
  {
   "cell_type": "markdown",
   "metadata": {},
   "source": [
    "###  Índices <a name=\"indices\"></a>\n",
    "\n",
    "  * usa `$\\alpha_1$` para producir $\\alpha_1$\n",
    "  \n",
    "  * usa `$\\mathbb R^n$` para producir $\\mathbb R^n$\n",
    "  \n",
    "  * usa `$\\sum_{i=1}^{10}x_i$` para obtener $\\sum_{i=1}^{10}x_i$\n",
    "  \n",
    "  * usa `$$\\sum_{i=1}^{10}x_i$$` para obtener $$\\sum_{i=1}^{10}x_i$$\n",
    "  \n",
    "  * usa `$$\\int_{a}^{b}f(x)dx$$` para obtener $$\\int_{a}^{b}f(x)$$\n",
    "  \n",
    "  * usa `$$\\prod_{i\\neq j}^{n}\\dfrac{x-x_i}{x_j-x_i}$$` para obtener \n",
    "  $$\\prod_{i\\neq j}^{n}\\dfrac{x-x_i}{x_j-x_i}$$"
   ]
  },
  {
   "cell_type": "markdown",
   "metadata": {},
   "source": [
    "### Operadores <a name=\"operadores\"></a>\n",
    "  \n",
    "   * usa `$\\{x_n\\}$` para obtener la sucesión $\\{x_n\\}$\n",
    "   \n",
    "   * usa `$\\|I\\|_1=?$` para obtener la norma matricial $\\|I\\|_1=?$\n",
    "   \n",
    "   * usa `$\\langle u,v\\rangle = 0$` para obtener la relación  $\\langle u,v\\rangle = 0$\n",
    "   \n",
    "   * usa `$$\\left(fórmula\\right)$$`  para obtener paréntesis más grandes\n",
    "   \n",
    "   $$\\left(\\int_{0}^{1}e^{x^2}dx\\right)\\left(\\int_{0}^{1}e^{x^2}dx\\right) = ?$$\n",
    "   \n",
    "     asimismo puede usar \n",
    "   > `$$\\left[ fórmula \\right]$$` \n",
    "   \n",
    "   > `$$\\left\\{ fórmula \\right\\}$$` \n",
    "\n",
    "  \n",
    "  $$\\max_{\\substack{x\\in\\mathbb R^2 \\\\ \\|x\\|_1=1}} \\|A\\|_1 = ?$$"
   ]
  },
  {
   "cell_type": "code",
   "execution_count": null,
   "metadata": {},
   "outputs": [],
   "source": []
  }
 ],
 "metadata": {
  "kernelspec": {
   "display_name": "Julia 0.6.2",
   "language": "julia",
   "name": "julia-0.6"
  },
  "language_info": {
   "file_extension": ".jl",
   "mimetype": "application/julia",
   "name": "julia",
   "version": "0.6.2"
  }
 },
 "nbformat": 4,
 "nbformat_minor": 2
}
