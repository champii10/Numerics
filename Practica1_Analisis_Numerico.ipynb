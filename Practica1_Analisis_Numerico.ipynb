{
 "cells": [
  {
   "cell_type": "markdown",
   "metadata": {},
   "source": [
    "# Práctica 1 de Análisis Numérico\n",
    "\n",
    "Integrantes: "
   ]
  },
  {
   "cell_type": "markdown",
   "metadata": {},
   "source": []
  },
  {
   "cell_type": "markdown",
   "metadata": {},
   "source": [
    "## Parte de Aritmética de Punto Flotante"
   ]
  },
  {
   "cell_type": "markdown",
   "metadata": {},
   "source": [
    "### Ejercicio 1\n",
    " **(1 punto)**\n",
    "<br>\n",
    "<font color=blue>La aproximación de  Stirling \n",
    " $$S_n=\\sqrt{2\\pi n}\\cdot\\left(\\dfrac{n}{\\exp(1)}\\right)^n$$\n",
    " se usa para aproximar el factorial $n!$.\n",
    "<br>   \n",
    "Escriba un programa que muestre a modo de tabla tanto a $n!$ como a $S_n$,  así como los errores relativos y absolutos para $n=1,\\dots,20$ </font>"
   ]
  },
  {
   "cell_type": "markdown",
   "metadata": {},
   "source": [
    "> - <font color=blue> haga sus calculos en formato simple de IEEE</font>\n",
    "> - <font color=blue> use una rutina de Julia para calcular el factorial de $n$ </font>    "
   ]
  },
  {
   "cell_type": "code",
   "execution_count": null,
   "metadata": {},
   "outputs": [],
   "source": []
  },
  {
   "cell_type": "markdown",
   "metadata": {},
   "source": [
    "> <font color=blue> ¿Qué observa en los errores?</font>"
   ]
  },
  {
   "cell_type": "markdown",
   "metadata": {},
   "source": []
  },
  {
   "cell_type": "markdown",
   "metadata": {},
   "source": [
    "### Ejercicio 2\n",
    " **(1 punto)**\n",
    "<br>\n",
    "<font color=blue>Ejecute un ciclo que en cada paso reemplaze el valor asignado a la variable $x$ por el doble\n",
    "</font>  "
   ]
  },
  {
   "cell_type": "markdown",
   "metadata": {},
   "source": [
    "> - <font color=blue>inicie con $x=1.0$</font>\n",
    "> - <font color=blue>Criterio de paro: el nuevo valor asignado a la variable ya no es\n",
    "    mayor que el valor anterior</font>   "
   ]
  },
  {
   "cell_type": "code",
   "execution_count": null,
   "metadata": {},
   "outputs": [],
   "source": []
  },
  {
   "cell_type": "markdown",
   "metadata": {},
   "source": [
    ">  <font color=blue> En aritmética exacta el criterio de paro nunca se cumple. \n",
    "   <br>\n",
    "   ¿por qué se cumple con el formato doble del IEEE que usa Julia?</font>"
   ]
  },
  {
   "cell_type": "markdown",
   "metadata": {},
   "source": []
  },
  {
   "cell_type": "markdown",
   "metadata": {},
   "source": [
    ">  <font color=blue>Indique cuántas iteraciones realizó el ciclo así como el penúltimo valor\n",
    "   y el último valor de la variable $x$ calculado por el ciclo</font>"
   ]
  },
  {
   "cell_type": "markdown",
   "metadata": {},
   "source": []
  },
  {
   "cell_type": "markdown",
   "metadata": {},
   "source": [
    "### Ejercicio 3\n",
    " **(1.5 puntos)**\n",
    "<br>\n",
    "<br>\n",
    "<font color=blue>Escriba una rutina para aproximar la evaluación de la función exponencial \n",
    "    por los primeros $n$ términos de su serie de Taylor. \n",
    "</font>"
   ]
  },
  {
   "cell_type": "markdown",
   "metadata": {},
   "source": [
    "-  <font color=blue> **Criterios de paro**: \n",
    "     cuando el $n$-esímo término sea menor que $10^{-6}$ \n",
    "     o bien cuando $n=25$</font>\n",
    "-   <font color=blue> Tu rutina debe evitar errores de cancelación cuando recibe $x<0$.</font>"
   ]
  },
  {
   "cell_type": "code",
   "execution_count": null,
   "metadata": {},
   "outputs": [],
   "source": []
  },
  {
   "cell_type": "markdown",
   "metadata": {},
   "source": [
    "> <font color=blue>\n",
    "    Genera una tabla donde muestres los valores que genera tu algoritmo para $x=-25,-10,-5,5,10,12$ así como las evaluaciones correspondientes usando la rutina de Julia \n",
    "para la exponencial. Muestre al menos 7 decimales usando notación científica </font>\n"
   ]
  },
  {
   "cell_type": "code",
   "execution_count": null,
   "metadata": {},
   "outputs": [],
   "source": []
  },
  {
   "cell_type": "markdown",
   "metadata": {},
   "source": [
    "> <font color=blue> Para aproximar la derivada de la exponencial en $x=0$, genere una tabla\n",
    "con las diferencias finitas \n",
    "$$\\dfrac{e^{x+h}-e^{x}}{h}\\quad\\text{y}\\quad\\dfrac{e^{x+h}-e^{x-h}}{2h}$$ \n",
    "donde $h=2^{-i}$ para $i=1,\\dots,20.$ \n",
    "<br>\n",
    "Realize las evaluaciones de $e^{x},e^{x-h}$ y $e^{x+h}$ usando el algoritmo que diseño.\n",
    "</font>"
   ]
  },
  {
   "cell_type": "code",
   "execution_count": null,
   "metadata": {},
   "outputs": [],
   "source": []
  },
  {
   "cell_type": "markdown",
   "metadata": {},
   "source": [
    "> <font color=blue> ¿Las aproximaciones de la derivada del exponencial en $x=0$ mejoran o empeoran conforme $i$ aumenta? \n",
    "   <br> \n",
    "    Explique sus resultados. </font>"
   ]
  },
  {
   "cell_type": "markdown",
   "metadata": {},
   "source": []
  },
  {
   "cell_type": "markdown",
   "metadata": {},
   "source": [
    "## Parte de Álgebra Lineal Numérica"
   ]
  },
  {
   "cell_type": "markdown",
   "metadata": {},
   "source": [
    "### Ejercicio 4\n",
    " **(3 puntos)**\n",
    "<br>\n",
    "<font color=blue>Considera la imagen en escala de grises *Lenna.png*. </font>\n",
    "\n",
    "<img src=\"Lenna.png\">\n",
    "\n",
    "- <font color=blue> \n",
    "   Busque comandos para generar la matriz $A$ asociada a esta imagen tal que los elementos\n",
    "  esten en formato doble del IEEE y en el intervalo $[0,1]$. Muestre la submatriz\n",
    "   $$X = \\begin{bmatrix} \n",
    "   a_{240,240} & \\cdots & a_{240,289} \\\\\n",
    "   \\vdots & & \\vdots \\\\\n",
    "   a_{289,240} & & a_{289,289}\n",
    "   \\end{bmatrix}$$\n",
    "   así como la imagen correspondiente a esta submatriz."
   ]
  },
  {
   "cell_type": "code",
   "execution_count": null,
   "metadata": {},
   "outputs": [],
   "source": []
  },
  {
   "cell_type": "code",
   "execution_count": null,
   "metadata": {},
   "outputs": [],
   "source": []
  },
  {
   "cell_type": "markdown",
   "metadata": {},
   "source": [
    "- <font color=blue> Busque un comando para calcular el rango de una matriz y uselo para hallar\n",
    "  el rango de $A$ y $X$.\n",
    " </font>"
   ]
  },
  {
   "cell_type": "code",
   "execution_count": null,
   "metadata": {},
   "outputs": [],
   "source": []
  },
  {
   "cell_type": "markdown",
   "metadata": {},
   "source": [
    ">  <font color=blue>\n",
    "  ¿$A$ es invertible?\n",
    "  <br>\n",
    "  ¿$X$ es invertible?\n",
    "   </font>  "
   ]
  },
  {
   "cell_type": "markdown",
   "metadata": {},
   "source": []
  },
  {
   "cell_type": "markdown",
   "metadata": {},
   "source": [
    "- <font color=blue>\n",
    "  Apile las columnas $X_1,\\dots,X_{50}$ de $X$ en un vector\n",
    "\n",
    "  $x= \\begin{bmatrix} X_1 \\\\ \\vdots \\\\ X_{50}\\end{bmatrix}$\n",
    "  </font>"
   ]
  },
  {
   "cell_type": "code",
   "execution_count": null,
   "metadata": {},
   "outputs": [],
   "source": []
  },
  {
   "cell_type": "markdown",
   "metadata": {},
   "source": [
    "-  <font color=blue> Escriba un programa que genere la matriz de Toeplitz $T$ de tamaño $m\\times m$ dada por \n",
    " $$t_{i,j}=\\dfrac{1}{\\sqrt{2\\pi}\\sigma}a^{(i-j)^2},$$ donde\n",
    " $$a=\\exp\\left(\\dfrac{-1}{2\\sigma^2}\\right)$$\n",
    " </font> \n",
    "  <font color=blue> **Entrada**: variables $\\sigma>0,m\\in\\mathbb N$</font>\n",
    "  <br>\n",
    "  <font color=blue>**Salida**: arreglo $T$ de $m\\times m$ \n",
    "    que almacena matriz de Toeplitz</font>\n",
    "  <br>\n",
    "  <font color=blue> Evite realizar ciclos (for,while)</font>\n",
    " "
   ]
  },
  {
   "cell_type": "code",
   "execution_count": null,
   "metadata": {},
   "outputs": [],
   "source": []
  },
  {
   "cell_type": "markdown",
   "metadata": {},
   "source": [
    "- <font color=blue>Fije $m=2500$, </font> \n",
    "  <br>\n",
    "  <font color=blue> Para $\\sigma=0.5,1,1.5,1.8,2.0,2.5,3.0,3.5$ </font> \n",
    "  \n",
    "  > <font color=blue>  haga el producto $y =Tx$ usando el programa anterior </font> \n",
    "     <br>\n",
    "    <font color=blue> Reacomode $y$ como una matriz $Y$ de tamaño $50\\times 50$\n",
    "    $$Y = \\begin{bmatrix}\n",
    "     y_1 & y_{51} & \\dots & y_{2491}\\\\ \\vdots & \\vdots & \\vdots \\\\ \n",
    "     y_{50} & y_{100} & \\dots & y_ {2500}\\\\\n",
    "    \\end{bmatrix}$$ </font> \n",
    "    <br>\n",
    "    <font color=blue> Muestre la imagen correspondiente</font> "
   ]
  },
  {
   "cell_type": "code",
   "execution_count": null,
   "metadata": {},
   "outputs": [],
   "source": []
  },
  {
   "cell_type": "code",
   "execution_count": null,
   "metadata": {},
   "outputs": [],
   "source": []
  },
  {
   "cell_type": "markdown",
   "metadata": {},
   "source": [
    "> <font color=blue>\n",
    "    ¿cómo cambian las imágenes que obtiene en relación a la desviación estándar $\\sigma$?\n",
    "  </font>"
   ]
  },
  {
   "cell_type": "markdown",
   "metadata": {},
   "source": []
  },
  {
   "cell_type": "markdown",
   "metadata": {},
   "source": [
    "- <font color=blue> \n",
    " Fije $m=2500$, genera una tabla con $\\text{cond}_1(T)$ para \n",
    " $\\sigma=1,1.5,1.8,2.0,2.1,2.3,2.5$ \n",
    " </font>"
   ]
  },
  {
   "cell_type": "code",
   "execution_count": null,
   "metadata": {},
   "outputs": [],
   "source": []
  },
  {
   "cell_type": "markdown",
   "metadata": {},
   "source": [
    "> <font color=blue> \n",
    "¿qué puede decir del condicionamiento de $T$ en relación a la desviación estándar $\\sigma$?\n",
    "</font>"
   ]
  },
  {
   "cell_type": "markdown",
   "metadata": {},
   "source": []
  },
  {
   "cell_type": "markdown",
   "metadata": {},
   "source": [
    "- <font color=blue>  En teoría, la matriz $T$ es positiva definida para cualquier valor de $\\sigma>0$.  Por lo que tiene factorización de Cholesky. \n",
    "  <br>\n",
    "  Sin embargo esto no es válido con el formato doble del IEEE.\n",
    "  <br>\n",
    "  Fije $m=50$. \n",
    "  <br>\n",
    "  **Halle al tanteo el valor más grande de $\\sigma>0$** hasta con dos decimales (Ej. 3.56, 17.29)\n",
    "  para el cúal pueda calcular la factorización de Cholesky de $T$\n",
    " </font>"
   ]
  },
  {
   "cell_type": "markdown",
   "metadata": {},
   "source": [
    "> <font color=blue> use una rutina para la  factorización de Cholesky  </font> \n",
    "  <br>\n",
    "  <font color=blue> No es necesario mostrar las factorizaciones de Cholesky, pero sí\n",
    "       el mensaje de error de la rutina </font>   "
   ]
  },
  {
   "cell_type": "code",
   "execution_count": null,
   "metadata": {},
   "outputs": [],
   "source": []
  },
  {
   "cell_type": "code",
   "execution_count": null,
   "metadata": {},
   "outputs": [],
   "source": []
  },
  {
   "cell_type": "markdown",
   "metadata": {},
   "source": [
    "### Ejercicio 5\n",
    " **(1.5 puntos)**\n",
    "<br>\n",
    "<font color=blue>Halle un comando para generar la matriz de Hilbert $H_n$ de tamaño $n\\times n$.\n",
    "</font>\n",
    "\n",
    "-  <font color=blue>\n",
    "    Construya una tabla que muestre  $\\text{cond}_{\\infty}(H_n)$ y $\\det(H_n)$ para $n=1,\\dots,30$\n",
    "    </font>"
   ]
  },
  {
   "cell_type": "code",
   "execution_count": null,
   "metadata": {},
   "outputs": [],
   "source": []
  },
  {
   "cell_type": "markdown",
   "metadata": {},
   "source": [
    "> <font color=blue>¿cómo cambia el determinante conforme $n$ aumenta?</font>"
   ]
  },
  {
   "cell_type": "markdown",
   "metadata": {},
   "source": []
  },
  {
   "cell_type": "markdown",
   "metadata": {},
   "source": [
    "- <font color=blue>\n",
    "  Gŕafique  $\\text{cond}_{\\infty}(H_n)$ contra $n$  para $n=1,\\dots,30$ usando escala logarítmica\n",
    "  para el eje vertical</font>"
   ]
  },
  {
   "cell_type": "code",
   "execution_count": null,
   "metadata": {},
   "outputs": [],
   "source": []
  },
  {
   "cell_type": "markdown",
   "metadata": {},
   "source": [
    "> <font color=blue> ¿qué le dice la gráfica anterior sobre el condicionamiento de $H_n$? </font>"
   ]
  },
  {
   "cell_type": "markdown",
   "metadata": {},
   "source": []
  },
  {
   "cell_type": "markdown",
   "metadata": {},
   "source": [
    "-   <font color=blue>\n",
    "    Sea  $u$ un vector de unos de $n$ componentes. Sea $b=Hu$. \n",
    "    <br>\n",
    "    Calcule la solución  $\\widehat x$ del sistema $Hx=b$ mediante factorización \n",
    "    LU con pivoteo por renglones \n",
    "    <br>\n",
    "    y $\\|\\widehat x-u\\|_{\\infty}$ para $n=5,\\dots,20$.\n",
    "    </font>\n",
    "    \n",
    " >   **NOTAS**:\n",
    " <br>\n",
    " >  <font color=blue> puede usar una rutina para factorización LU con pivoteo ,</font> \n",
    " <br>\n",
    " >  <font color=blue> no muestre explicítamente todas las\n",
    "  factorizaciones y las soluciones, basta con la tabla de la normas $\\|\\widehat x-u\\|_{\\infty}$</font> "
   ]
  },
  {
   "cell_type": "code",
   "execution_count": null,
   "metadata": {},
   "outputs": [],
   "source": []
  },
  {
   "cell_type": "markdown",
   "metadata": {},
   "source": []
  },
  {
   "cell_type": "markdown",
   "metadata": {},
   "source": [
    "> <br>\n",
    "    <font color=blue> En teoría, $\\widehat x=u$. Por lo que $\\|\\widehat x-u\\|_{\\infty}=0$. <br>\n",
    "> <br>\n",
    "    <font color=blue> ¿esto se refleja en los calculos que hizo? ¿qué ocurre?<br>"
   ]
  },
  {
   "cell_type": "markdown",
   "metadata": {},
   "source": [
    "### Ejercicio 6\n",
    " **(2 puntos)**\n",
    "<br>\n",
    "<font color=blue>\n",
    " Una manera de calcular los valores de la función $u$ en el problema de valores en la frontera\n",
    "    <br>\n",
    "    $$\\begin{array}{rl}\n",
    "    -u''(x)+u(x) =1, & 0<x<1 \\\\ u(0)= 1, & \\\\ u(1) =0,  \n",
    "    \\end{array}$$\n",
    "es mediante el método de diferencias finitas.\n",
    "<br>\n",
    "Sea $h=\\dfrac{1}{m+1}$y sean $x_j=jh$ para $j=1,\\dots,m$. \n",
    "<br>\n",
    "Los valores aproximados de $u(x_j)$ son las componentes $\\widehat z_j$ de la solución $\\widehat z$ del \n",
    "sistema de ecuaciones lineales \n",
    "<br>\n",
    "<br>\n",
    "$$Tz=b,$$ donde\n",
    "<br>\n",
    "  $$ T =\n",
    "  \\begin{bmatrix}\n",
    "  2+h^2 & -1 & & 0 \\\\ -1 & \\ddots & \\ddots & \\\\ & \\ddots & \\ddots & -1 \\\\ 0 & & -1 & 2+h^2\n",
    "  \\end{bmatrix}$$\n",
    "es matriz tridiagonal simétrica $m\\times m$ y \n",
    "$$b=\n",
    "\\begin{bmatrix}\n",
    " h^2 +1 \\\\ h^2 \\\\ \\vdots \\\\ h^2\n",
    "\\end{bmatrix}_{m\\times 1}\n",
    "$$  \n",
    "</font>"
   ]
  },
  {
   "cell_type": "markdown",
   "metadata": {},
   "source": [
    "- <font color=blue> \n",
    "  Busque una rutina para hallar la Factorización LU de una matriz tridiagonal simétrica \n",
    "  <br>\n",
    "  y usela para resolver $Tz=b$ cuando $h=0.1,0.05,0.025,0.0125$ </font>"
   ]
  },
  {
   "cell_type": "markdown",
   "metadata": {},
   "source": [
    ">  <font color=blue> La rutina solo debe realizar operaciones con los elementos de la diagonal \n",
    "    principal, la subdiagonal y la superdiagonal tanto en la Factorización como en las fases de \n",
    "    sustitución directa y hacia átras</font>"
   ]
  },
  {
   "cell_type": "code",
   "execution_count": null,
   "metadata": {},
   "outputs": [],
   "source": []
  },
  {
   "cell_type": "code",
   "execution_count": null,
   "metadata": {},
   "outputs": [],
   "source": []
  },
  {
   "cell_type": "markdown",
   "metadata": {},
   "source": [
    "- <font color=blue>  La función $$u(x)=1-\\dfrac{\\sinh(x)}{\\sinh(1)}$$ es la solución del problema de valores en frontera. \n",
    "  <br>\n",
    "  En una misma figura gráfique los valores $u(x_j)$ contra $x_j$ y las componentes \n",
    "  $\\widehat z_j$ contra $x_j$ para $h=0.1$ \n",
    "  </font>"
   ]
  },
  {
   "cell_type": "code",
   "execution_count": null,
   "metadata": {},
   "outputs": [],
   "source": []
  },
  {
   "cell_type": "markdown",
   "metadata": {},
   "source": [
    "- <font color=blue> \n",
    " Muestre una tabla con los errores\n",
    "  $$\\left\\|\n",
    "  \\begin{bmatrix}\n",
    "  u(x_1) \\\\ \\vdots \\\\ u(x_m)\n",
    " \\end{bmatrix} -\n",
    " \\begin{bmatrix}\n",
    "  z_1 \\\\ \\vdots \\\\ z_m\n",
    " \\end{bmatrix}\n",
    "  \\right\\|_{\\infty}$$\n",
    "  para $h=0.1,0.05,0.025,0.0125$ </font>"
   ]
  },
  {
   "cell_type": "code",
   "execution_count": null,
   "metadata": {},
   "outputs": [],
   "source": []
  }
 ],
 "metadata": {
  "kernelspec": {
   "display_name": "Julia 0.6.2",
   "language": "julia",
   "name": "julia-0.6"
  },
  "language_info": {
   "file_extension": ".jl",
   "mimetype": "application/julia",
   "name": "julia",
   "version": "0.6.2"
  }
 },
 "nbformat": 4,
 "nbformat_minor": 2
}
