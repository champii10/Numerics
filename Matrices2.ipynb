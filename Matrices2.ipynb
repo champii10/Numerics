{
 "cells": [
  {
   "cell_type": "markdown",
   "metadata": {},
   "source": [
    "# <font color=blue >Condicionamiento </font>"
   ]
  },
  {
   "cell_type": "code",
   "execution_count": 1,
   "metadata": {},
   "outputs": [
    {
     "data": {
      "text/plain": [
       "T (generic function with 1 method)"
      ]
     },
     "execution_count": 1,
     "metadata": {},
     "output_type": "execute_result"
    }
   ],
   "source": [
    "function T(n::Int64)\n",
    "    A = Tridiagonal(-ones(n-1),2.0ones(n),-ones(n-1))\n",
    "    A[1,1] = 1.0\n",
    "    return A\n",
    "end"
   ]
  },
  {
   "cell_type": "code",
   "execution_count": 2,
   "metadata": {},
   "outputs": [
    {
     "data": {
      "text/plain": [
       "5×5 Tridiagonal{Float64}:\n",
       "  1.0  -1.0    ⋅     ⋅     ⋅ \n",
       " -1.0   2.0  -1.0    ⋅     ⋅ \n",
       "   ⋅   -1.0   2.0  -1.0    ⋅ \n",
       "   ⋅     ⋅   -1.0   2.0  -1.0\n",
       "   ⋅     ⋅     ⋅   -1.0   2.0"
      ]
     },
     "execution_count": 2,
     "metadata": {},
     "output_type": "execute_result"
    }
   ],
   "source": [
    "n = 5; T(n)"
   ]
  },
  {
   "cell_type": "markdown",
   "metadata": {},
   "source": [
    "**Halla inversa via factorización LU**"
   ]
  },
  {
   "cell_type": "code",
   "execution_count": 3,
   "metadata": {},
   "outputs": [
    {
     "data": {
      "text/plain": [
       "5×5 Array{Float64,2}:\n",
       " 5.0  4.0  3.0  2.0  1.0\n",
       " 4.0  4.0  3.0  2.0  1.0\n",
       " 3.0  3.0  3.0  2.0  1.0\n",
       " 2.0  2.0  2.0  2.0  1.0\n",
       " 1.0  1.0  1.0  1.0  1.0"
      ]
     },
     "execution_count": 3,
     "metadata": {},
     "output_type": "execute_result"
    }
   ],
   "source": [
    "lufact(T(n))\\eye(n)"
   ]
  },
  {
   "cell_type": "markdown",
   "metadata": {},
   "source": [
    "** ¿rutina para la matriz inversa? **"
   ]
  },
  {
   "cell_type": "code",
   "execution_count": 5,
   "metadata": {},
   "outputs": [
    {
     "data": {
      "text/plain": [
       "5-element Array{Int64,1}:\n",
       " 5\n",
       " 4\n",
       " 3\n",
       " 2\n",
       " 1"
      ]
     },
     "execution_count": 5,
     "metadata": {},
     "output_type": "execute_result"
    }
   ],
   "source": [
    "collect(n:-1:1)"
   ]
  },
  {
   "cell_type": "code",
   "execution_count": 7,
   "metadata": {},
   "outputs": [
    {
     "data": {
      "text/plain": [
       "1×5 RowVector{Float64,Array{Float64,1}}:\n",
       " 1.0  1.0  1.0  1.0  1.0"
      ]
     },
     "execution_count": 7,
     "metadata": {},
     "output_type": "execute_result"
    }
   ],
   "source": [
    "ones(n)'"
   ]
  },
  {
   "cell_type": "code",
   "execution_count": 8,
   "metadata": {},
   "outputs": [
    {
     "data": {
      "text/plain": [
       "5×5 Array{Float64,2}:\n",
       " 5.0  5.0  5.0  5.0  5.0\n",
       " 4.0  4.0  4.0  4.0  4.0\n",
       " 3.0  3.0  3.0  3.0  3.0\n",
       " 2.0  2.0  2.0  2.0  2.0\n",
       " 1.0  1.0  1.0  1.0  1.0"
      ]
     },
     "execution_count": 8,
     "metadata": {},
     "output_type": "execute_result"
    }
   ],
   "source": [
    "collect(n:-1:1)*ones(n)'"
   ]
  },
  {
   "cell_type": "code",
   "execution_count": 9,
   "metadata": {},
   "outputs": [
    {
     "data": {
      "text/plain": [
       "5×5 Symmetric{Float64,Array{Float64,2}}:\n",
       " 5.0  4.0  3.0  2.0  1.0\n",
       " 4.0  4.0  3.0  2.0  1.0\n",
       " 3.0  3.0  3.0  2.0  1.0\n",
       " 2.0  2.0  2.0  2.0  1.0\n",
       " 1.0  1.0  1.0  1.0  1.0"
      ]
     },
     "execution_count": 9,
     "metadata": {},
     "output_type": "execute_result"
    }
   ],
   "source": [
    "Symmetric( collect(n:-1:1)*ones(n)', :L )"
   ]
  },
  {
   "cell_type": "code",
   "execution_count": 10,
   "metadata": {},
   "outputs": [
    {
     "data": {
      "text/plain": [
       "T⁻¹ (generic function with 1 method)"
      ]
     },
     "execution_count": 10,
     "metadata": {},
     "output_type": "execute_result"
    }
   ],
   "source": [
    "function T⁻¹(n::Int64)\n",
    "    A = Symmetric( collect(n:-1:1)*ones(n)', :L )\n",
    "    return A\n",
    "end"
   ]
  },
  {
   "cell_type": "code",
   "execution_count": 11,
   "metadata": {},
   "outputs": [
    {
     "data": {
      "text/plain": [
       "5×5 Symmetric{Float64,Array{Float64,2}}:\n",
       " 5.0  4.0  3.0  2.0  1.0\n",
       " 4.0  4.0  3.0  2.0  1.0\n",
       " 3.0  3.0  3.0  2.0  1.0\n",
       " 2.0  2.0  2.0  2.0  1.0\n",
       " 1.0  1.0  1.0  1.0  1.0"
      ]
     },
     "execution_count": 11,
     "metadata": {},
     "output_type": "execute_result"
    }
   ],
   "source": [
    "T⁻¹(5)"
   ]
  },
  {
   "cell_type": "markdown",
   "metadata": {},
   "source": [
    "**Normas Matriciales de T y su inversa**"
   ]
  },
  {
   "cell_type": "code",
   "execution_count": 12,
   "metadata": {},
   "outputs": [
    {
     "data": {
      "text/plain": [
       "5×5 Tridiagonal{Float64}:\n",
       "  1.0  -1.0    ⋅     ⋅     ⋅ \n",
       " -1.0   2.0  -1.0    ⋅     ⋅ \n",
       "   ⋅   -1.0   2.0  -1.0    ⋅ \n",
       "   ⋅     ⋅   -1.0   2.0  -1.0\n",
       "   ⋅     ⋅     ⋅   -1.0   2.0"
      ]
     },
     "execution_count": 12,
     "metadata": {},
     "output_type": "execute_result"
    }
   ],
   "source": [
    "T(5)"
   ]
  },
  {
   "cell_type": "code",
   "execution_count": 28,
   "metadata": {},
   "outputs": [
    {
     "name": "stdout",
     "output_type": "stream",
     "text": [
      "||T||oo = 4.0\n"
     ]
    }
   ],
   "source": [
    "n = 5\n",
    "Tn = T(n)\n",
    "n∞T = maximum(sum(abs.(Tn),1))\n",
    "println(\"||T||oo = $n∞T\")"
   ]
  },
  {
   "cell_type": "code",
   "execution_count": 29,
   "metadata": {},
   "outputs": [
    {
     "data": {
      "text/plain": [
       "true"
      ]
     },
     "execution_count": 29,
     "metadata": {},
     "output_type": "execute_result"
    }
   ],
   "source": [
    "maximum(sum(abs.(Tn),2)) == norm(Tn,Inf)"
   ]
  },
  {
   "cell_type": "code",
   "execution_count": 17,
   "metadata": {},
   "outputs": [
    {
     "data": {
      "text/plain": [
       "5×5 Symmetric{Float64,Array{Float64,2}}:\n",
       " 5.0  4.0  3.0  2.0  1.0\n",
       " 4.0  4.0  3.0  2.0  1.0\n",
       " 3.0  3.0  3.0  2.0  1.0\n",
       " 2.0  2.0  2.0  2.0  1.0\n",
       " 1.0  1.0  1.0  1.0  1.0"
      ]
     },
     "execution_count": 17,
     "metadata": {},
     "output_type": "execute_result"
    }
   ],
   "source": [
    "T⁻¹(5)"
   ]
  },
  {
   "cell_type": "code",
   "execution_count": 18,
   "metadata": {},
   "outputs": [
    {
     "name": "stdout",
     "output_type": "stream",
     "text": [
      "||inv(T)||oo = 15.0\n"
     ]
    }
   ],
   "source": [
    "n∞T⁻¹ = norm(T⁻¹(n),Inf)\n",
    "println(\"||inv(T)||oo = $n∞T⁻¹\")"
   ]
  },
  {
   "cell_type": "markdown",
   "metadata": {},
   "source": [
    "** Número de Condición**"
   ]
  },
  {
   "cell_type": "code",
   "execution_count": 19,
   "metadata": {},
   "outputs": [
    {
     "name": "stdout",
     "output_type": "stream",
     "text": [
      "cond(T,∞) = 60.0\n"
     ]
    }
   ],
   "source": [
    "κ∞T = n∞T*n∞T⁻¹\n",
    "println(\"cond(T,∞) = $κ∞T\")"
   ]
  },
  {
   "cell_type": "code",
   "execution_count": 20,
   "metadata": {},
   "outputs": [
    {
     "data": {
      "text/plain": [
       "60.0"
      ]
     },
     "execution_count": 20,
     "metadata": {},
     "output_type": "execute_result"
    }
   ],
   "source": [
    "cond(Tn,Inf)"
   ]
  },
  {
   "cell_type": "markdown",
   "metadata": {},
   "source": [
    "*Otro Ejemplo*"
   ]
  },
  {
   "cell_type": "code",
   "execution_count": 22,
   "metadata": {},
   "outputs": [
    {
     "data": {
      "text/plain": [
       "5×5 Array{Float64,2}:\n",
       " 1.0  0.0  0.0  0.0  0.0\n",
       " 1.0  1.0  0.0  0.0  0.0\n",
       " 1.0  1.0  1.0  0.0  0.0\n",
       " 1.0  1.0  1.0  1.0  0.0\n",
       " 1.0  1.0  1.0  1.0  1.0"
      ]
     },
     "execution_count": 22,
     "metadata": {},
     "output_type": "execute_result"
    }
   ],
   "source": [
    "L = tril(ones(5,5))"
   ]
  },
  {
   "cell_type": "code",
   "execution_count": 23,
   "metadata": {},
   "outputs": [
    {
     "data": {
      "text/plain": [
       "9.333333333333334"
      ]
     },
     "execution_count": 23,
     "metadata": {},
     "output_type": "execute_result"
    }
   ],
   "source": [
    "cond(L,Inf)"
   ]
  },
  {
   "cell_type": "markdown",
   "metadata": {},
   "source": [
    "Sin embargo $$\\text{cond}_\\infty(L)=10$$\n",
    "\n",
    "<font color=red> ADVERTENCIA</font>: La rutina `cond( )` de Julia estima el  número de\n",
    "condición. \n",
    "\n",
    "Esta rutina da cotas inferiores para `cond(A,1)` y `cond(A,Inf)` "
   ]
  },
  {
   "cell_type": "code",
   "execution_count": 74,
   "metadata": {},
   "outputs": [
    {
     "name": "stdout",
     "output_type": "stream",
     "text": [
      "search: \u001b[1mc\u001b[22m\u001b[1mo\u001b[22m\u001b[1mn\u001b[22m\u001b[1md\u001b[22m \u001b[1mc\u001b[22m\u001b[1mo\u001b[22m\u001b[1mn\u001b[22m\u001b[1md\u001b[22mskeel \u001b[1mC\u001b[22m\u001b[1mo\u001b[22m\u001b[1mn\u001b[22m\u001b[1md\u001b[22mition ma\u001b[1mc\u001b[22mr\u001b[1mo\u001b[22mexpa\u001b[1mn\u001b[22m\u001b[1md\u001b[22m @ma\u001b[1mc\u001b[22mr\u001b[1mo\u001b[22mexpa\u001b[1mn\u001b[22m\u001b[1md\u001b[22m \u001b[1mc\u001b[22mheckb\u001b[1mo\u001b[22mu\u001b[1mn\u001b[22m\u001b[1md\u001b[22ms \u001b[1mc\u001b[22m\u001b[1mo\u001b[22m\u001b[1mn\u001b[22mv \u001b[1mc\u001b[22m\u001b[1mo\u001b[22m\u001b[1mn\u001b[22mj\n",
      "\n"
     ]
    },
    {
     "data": {
      "text/markdown": [
       "```\n",
       "cond(M, p::Real=2)\n",
       "```\n",
       "\n",
       "Condition number of the matrix `M`, computed using the operator `p`-norm. Valid values for `p` are `1`, `2` (default), or `Inf`.\n"
      ],
      "text/plain": [
       "```\n",
       "cond(M, p::Real=2)\n",
       "```\n",
       "\n",
       "Condition number of the matrix `M`, computed using the operator `p`-norm. Valid values for `p` are `1`, `2` (default), or `Inf`.\n"
      ]
     },
     "execution_count": 74,
     "metadata": {},
     "output_type": "execute_result"
    }
   ],
   "source": [
    "?cond"
   ]
  },
  {
   "cell_type": "markdown",
   "metadata": {},
   "source": [
    "**Condicionamiento y Determinante**"
   ]
  },
  {
   "cell_type": "code",
   "execution_count": 35,
   "metadata": {},
   "outputs": [
    {
     "data": {
      "text/plain": [
       "B (generic function with 1 method)"
      ]
     },
     "execution_count": 35,
     "metadata": {},
     "output_type": "execute_result"
    }
   ],
   "source": [
    "function B(n::Int64)\n",
    "    A = triu(-ones(n,n))\n",
    "    [A[i,i] = 1.0 for i∈ 1:n]\n",
    "    return A\n",
    "end"
   ]
  },
  {
   "cell_type": "code",
   "execution_count": 49,
   "metadata": {},
   "outputs": [
    {
     "data": {
      "text/plain": [
       "20×20 Array{Float64,2}:\n",
       " 1.0  -1.0  -1.0  -1.0  -1.0  -1.0  …  -1.0  -1.0  -1.0  -1.0  -1.0  -1.0\n",
       " 0.0   1.0  -1.0  -1.0  -1.0  -1.0     -1.0  -1.0  -1.0  -1.0  -1.0  -1.0\n",
       " 0.0   0.0   1.0  -1.0  -1.0  -1.0     -1.0  -1.0  -1.0  -1.0  -1.0  -1.0\n",
       " 0.0   0.0   0.0   1.0  -1.0  -1.0     -1.0  -1.0  -1.0  -1.0  -1.0  -1.0\n",
       " 0.0   0.0   0.0   0.0   1.0  -1.0     -1.0  -1.0  -1.0  -1.0  -1.0  -1.0\n",
       " 0.0   0.0   0.0   0.0   0.0   1.0  …  -1.0  -1.0  -1.0  -1.0  -1.0  -1.0\n",
       " 0.0   0.0   0.0   0.0   0.0   0.0     -1.0  -1.0  -1.0  -1.0  -1.0  -1.0\n",
       " 0.0   0.0   0.0   0.0   0.0   0.0     -1.0  -1.0  -1.0  -1.0  -1.0  -1.0\n",
       " 0.0   0.0   0.0   0.0   0.0   0.0     -1.0  -1.0  -1.0  -1.0  -1.0  -1.0\n",
       " 0.0   0.0   0.0   0.0   0.0   0.0     -1.0  -1.0  -1.0  -1.0  -1.0  -1.0\n",
       " 0.0   0.0   0.0   0.0   0.0   0.0  …  -1.0  -1.0  -1.0  -1.0  -1.0  -1.0\n",
       " 0.0   0.0   0.0   0.0   0.0   0.0     -1.0  -1.0  -1.0  -1.0  -1.0  -1.0\n",
       " 0.0   0.0   0.0   0.0   0.0   0.0     -1.0  -1.0  -1.0  -1.0  -1.0  -1.0\n",
       " 0.0   0.0   0.0   0.0   0.0   0.0     -1.0  -1.0  -1.0  -1.0  -1.0  -1.0\n",
       " 0.0   0.0   0.0   0.0   0.0   0.0      1.0  -1.0  -1.0  -1.0  -1.0  -1.0\n",
       " 0.0   0.0   0.0   0.0   0.0   0.0  …   0.0   1.0  -1.0  -1.0  -1.0  -1.0\n",
       " 0.0   0.0   0.0   0.0   0.0   0.0      0.0   0.0   1.0  -1.0  -1.0  -1.0\n",
       " 0.0   0.0   0.0   0.0   0.0   0.0      0.0   0.0   0.0   1.0  -1.0  -1.0\n",
       " 0.0   0.0   0.0   0.0   0.0   0.0      0.0   0.0   0.0   0.0   1.0  -1.0\n",
       " 0.0   0.0   0.0   0.0   0.0   0.0      0.0   0.0   0.0   0.0   0.0   1.0"
      ]
     },
     "execution_count": 49,
     "metadata": {},
     "output_type": "execute_result"
    }
   ],
   "source": [
    "m = 20\n",
    "Bm = B(m)"
   ]
  },
  {
   "cell_type": "code",
   "execution_count": 50,
   "metadata": {},
   "outputs": [
    {
     "data": {
      "text/plain": [
       "20×20 Array{Float64,2}:\n",
       " 1.0  1.0  2.0  4.0  8.0  16.0  32.0  64.0  …  65536.0  131072.0  262144.0\n",
       " 0.0  1.0  1.0  2.0  4.0   8.0  16.0  32.0     32768.0   65536.0  131072.0\n",
       " 0.0  0.0  1.0  1.0  2.0   4.0   8.0  16.0     16384.0   32768.0   65536.0\n",
       " 0.0  0.0  0.0  1.0  1.0   2.0   4.0   8.0      8192.0   16384.0   32768.0\n",
       " 0.0  0.0  0.0  0.0  1.0   1.0   2.0   4.0      4096.0    8192.0   16384.0\n",
       " 0.0  0.0  0.0  0.0  0.0   1.0   1.0   2.0  …   2048.0    4096.0    8192.0\n",
       " 0.0  0.0  0.0  0.0  0.0   0.0   1.0   1.0      1024.0    2048.0    4096.0\n",
       " 0.0  0.0  0.0  0.0  0.0   0.0   0.0   1.0       512.0    1024.0    2048.0\n",
       " 0.0  0.0  0.0  0.0  0.0   0.0   0.0   0.0       256.0     512.0    1024.0\n",
       " 0.0  0.0  0.0  0.0  0.0   0.0   0.0   0.0       128.0     256.0     512.0\n",
       " 0.0  0.0  0.0  0.0  0.0   0.0   0.0   0.0  …     64.0     128.0     256.0\n",
       " 0.0  0.0  0.0  0.0  0.0   0.0   0.0   0.0        32.0      64.0     128.0\n",
       " 0.0  0.0  0.0  0.0  0.0   0.0   0.0   0.0        16.0      32.0      64.0\n",
       " 0.0  0.0  0.0  0.0  0.0   0.0   0.0   0.0         8.0      16.0      32.0\n",
       " 0.0  0.0  0.0  0.0  0.0   0.0   0.0   0.0         4.0       8.0      16.0\n",
       " 0.0  0.0  0.0  0.0  0.0   0.0   0.0   0.0  …      2.0       4.0       8.0\n",
       " 0.0  0.0  0.0  0.0  0.0   0.0   0.0   0.0         1.0       2.0       4.0\n",
       " 0.0  0.0  0.0  0.0  0.0   0.0   0.0   0.0         1.0       1.0       2.0\n",
       " 0.0  0.0  0.0  0.0  0.0   0.0   0.0   0.0         0.0       1.0       1.0\n",
       " 0.0  0.0  0.0  0.0  0.0   0.0   0.0   0.0         0.0       0.0       1.0"
      ]
     },
     "execution_count": 50,
     "metadata": {},
     "output_type": "execute_result"
    }
   ],
   "source": [
    "Bim =inv(B(m))"
   ]
  },
  {
   "cell_type": "code",
   "execution_count": 51,
   "metadata": {},
   "outputs": [
    {
     "name": "stdout",
     "output_type": "stream",
     "text": [
      "cond(Bm,Inf) = 1.048576e7\n",
      "m x 2^(m-1) = 10485760\n"
     ]
    }
   ],
   "source": [
    "κ∞B = norm(Bm,Inf)*norm(Bim,Inf)\n",
    "println(\"cond(Bm,Inf) = $κ∞B\")\n",
    "println(\"m x 2^(m-1) = $(m*2^(m-1))\")"
   ]
  },
  {
   "cell_type": "code",
   "execution_count": 52,
   "metadata": {},
   "outputs": [
    {
     "data": {
      "text/plain": [
       "1.0"
      ]
     },
     "execution_count": 52,
     "metadata": {},
     "output_type": "execute_result"
    }
   ],
   "source": [
    "det(Bm)"
   ]
  },
  {
   "cell_type": "code",
   "execution_count": 30,
   "metadata": {},
   "outputs": [
    {
     "data": {
      "text/plain": [
       "7×7 Array{Float64,2}:\n",
       " 7.0  7.0  7.0  7.0  7.0  7.0  7.0\n",
       " 6.0  6.0  6.0  6.0  6.0  6.0  6.0\n",
       " 5.0  5.0  5.0  5.0  5.0  5.0  5.0\n",
       " 4.0  4.0  4.0  4.0  4.0  4.0  4.0\n",
       " 3.0  3.0  3.0  3.0  3.0  3.0  3.0\n",
       " 2.0  2.0  2.0  2.0  2.0  2.0  2.0\n",
       " 1.0  1.0  1.0  1.0  1.0  1.0  1.0"
      ]
     },
     "execution_count": 30,
     "metadata": {},
     "output_type": "execute_result"
    }
   ],
   "source": [
    "A₂ =collect(7:-1:1)*ones(7)'"
   ]
  },
  {
   "cell_type": "code",
   "execution_count": 31,
   "metadata": {},
   "outputs": [
    {
     "data": {
      "text/plain": [
       "28.0"
      ]
     },
     "execution_count": 31,
     "metadata": {},
     "output_type": "execute_result"
    }
   ],
   "source": [
    "maximum(sum(abs.(A₂),1)) "
   ]
  },
  {
   "cell_type": "code",
   "execution_count": 32,
   "metadata": {},
   "outputs": [
    {
     "data": {
      "text/plain": [
       "true"
      ]
     },
     "execution_count": 32,
     "metadata": {},
     "output_type": "execute_result"
    }
   ],
   "source": [
    "maximum(sum(abs.(A₂),1))  == norm(A₂,1)"
   ]
  },
  {
   "cell_type": "code",
   "execution_count": 33,
   "metadata": {},
   "outputs": [
    {
     "data": {
      "text/plain": [
       "49.0"
      ]
     },
     "execution_count": 33,
     "metadata": {},
     "output_type": "execute_result"
    }
   ],
   "source": [
    "maximum(sum(abs.(A₂),2)) "
   ]
  },
  {
   "cell_type": "code",
   "execution_count": 34,
   "metadata": {},
   "outputs": [
    {
     "data": {
      "text/plain": [
       "true"
      ]
     },
     "execution_count": 34,
     "metadata": {},
     "output_type": "execute_result"
    }
   ],
   "source": [
    "maximum(sum(abs.(A₂),2)) == norm(A₂,Inf)"
   ]
  }
 ],
 "metadata": {
  "kernelspec": {
   "display_name": "Julia 0.6.2",
   "language": "julia",
   "name": "julia-0.6"
  },
  "language_info": {
   "file_extension": ".jl",
   "mimetype": "application/julia",
   "name": "julia",
   "version": "0.6.2"
  }
 },
 "nbformat": 4,
 "nbformat_minor": 2
}
